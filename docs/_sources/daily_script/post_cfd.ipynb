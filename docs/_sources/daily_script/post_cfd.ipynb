{
 "cells": [
  {
   "cell_type": "code",
   "execution_count": 2,
   "id": "81bc2600-23ac-4e02-94a8-cc78d266493a",
   "metadata": {},
   "outputs": [],
   "source": [
    "import pandas as pd\n",
    "import numpy as np\n",
    "from matplotlib import pyplot as plt\n",
    "import matplotlib\n",
    "import matplotlib.image as mpimg\n",
    "import seaborn as sns\n",
    "sns.set()\n",
    "\n",
    "import mercury as mr\n",
    "import streamlit as st\n"
   ]
  },
  {
   "cell_type": "code",
   "execution_count": 3,
   "id": "10bdfef8-53e3-47e6-82ba-746a1e3a93b2",
   "metadata": {},
   "outputs": [
    {
     "data": {
      "application/mercury+json": "{\n    \"widget\": \"App\",\n    \"title\": \"CFD post processing\",\n    \"description\": \"Plot CFD data\",\n    \"show_code\": false,\n    \"show_prompt\": false,\n    \"output\": \"app\",\n    \"schedule\": \"\",\n    \"notify\": \"{}\",\n    \"continuous_update\": true,\n    \"static_notebook\": false,\n    \"show_sidebar\": true,\n    \"full_screen\": true,\n    \"allow_download\": true,\n    \"model_id\": \"mercury-app\",\n    \"code_uid\": \"App.0.40.24.1-rand45a1e984\"\n}",
      "text/html": [
       "<h3>Mercury Application</h3><small>This output won't appear in the web app.</small>"
      ],
      "text/plain": [
       "mercury.App"
      ]
     },
     "metadata": {},
     "output_type": "display_data"
    }
   ],
   "source": [
    "app = mr.App(title=\"CFD post processing\", description=\"Plot CFD data\")"
   ]
  },
  {
   "cell_type": "markdown",
   "id": "c8125e6d-ad61-47d1-a5f8-0aa873be0ad6",
   "metadata": {},
   "source": [
    "Prepare and clean data"
   ]
  },
  {
   "cell_type": "code",
   "execution_count": null,
   "id": "8c598392-f2bf-4f8d-a473-ee582c63c029",
   "metadata": {},
   "outputs": [],
   "source": []
  },
  {
   "cell_type": "markdown",
   "id": "09d45d1c-b02a-49f0-8776-30ccc8562024",
   "metadata": {},
   "source": [
    "# Plot Homogeneity Curves"
   ]
  },
  {
   "cell_type": "code",
   "execution_count": 4,
   "id": "de13fea1-bc7f-4d20-8f61-7de37d20a40e",
   "metadata": {},
   "outputs": [
    {
     "name": "stderr",
     "output_type": "stream",
     "text": [
      "2023-09-20 14:41:02.300 \n",
      "  Warning: to view this Streamlit app on a browser, run it with the following\n",
      "  command:\n",
      "\n",
      "    streamlit run C:\\Users\\T260366\\OneDrive - PPG Industries, Inc\\Github\\pyppg-handbook\\venv\\Lib\\site-packages\\ipykernel_launcher.py [ARGUMENTS]\n"
     ]
    },
    {
     "ename": "UnboundLocalError",
     "evalue": "cannot access local variable 'homogeneity_raw' where it is not associated with a value",
     "output_type": "error",
     "traceback": [
      "\u001b[1;31m---------------------------------------------------------------------------\u001b[0m",
      "\u001b[1;31mUnboundLocalError\u001b[0m                         Traceback (most recent call last)",
      "Cell \u001b[1;32mIn[4], line 40\u001b[0m\n\u001b[0;32m     37\u001b[0m         st\u001b[38;5;241m.\u001b[39mpyplot(fig)\n\u001b[0;32m     39\u001b[0m \u001b[38;5;28;01mif\u001b[39;00m \u001b[38;5;18m__name__\u001b[39m \u001b[38;5;241m==\u001b[39m \u001b[38;5;124m\"\u001b[39m\u001b[38;5;124m__main__\u001b[39m\u001b[38;5;124m\"\u001b[39m:\n\u001b[1;32m---> 40\u001b[0m     \u001b[43mmain\u001b[49m\u001b[43m(\u001b[49m\u001b[43m)\u001b[49m\n",
      "Cell \u001b[1;32mIn[4], line 10\u001b[0m, in \u001b[0;36mmain\u001b[1;34m()\u001b[0m\n\u001b[0;32m      7\u001b[0m st\u001b[38;5;241m.\u001b[39mheader(\u001b[38;5;124m\"\u001b[39m\u001b[38;5;124mUpload CFD output MotorPower.xlsx CSV data file\u001b[39m\u001b[38;5;124m\"\u001b[39m)\n\u001b[0;32m      8\u001b[0m data_file_2 \u001b[38;5;241m=\u001b[39m st\u001b[38;5;241m.\u001b[39mfile_uploader(\u001b[38;5;124m\"\u001b[39m\u001b[38;5;124mUpload CSV\u001b[39m\u001b[38;5;124m\"\u001b[39m, \u001b[38;5;28mtype\u001b[39m\u001b[38;5;241m=\u001b[39m[\u001b[38;5;124m\"\u001b[39m\u001b[38;5;124mcsv\u001b[39m\u001b[38;5;124m\"\u001b[39m])\n\u001b[1;32m---> 10\u001b[0m \u001b[38;5;28;01mif\u001b[39;00m \u001b[43mhomogeneity_raw\u001b[49m \u001b[38;5;129;01mis\u001b[39;00m \u001b[38;5;129;01mnot\u001b[39;00m \u001b[38;5;28;01mNone\u001b[39;00m:\n\u001b[0;32m     12\u001b[0m     homogeneity_raw \u001b[38;5;241m=\u001b[39m pd\u001b[38;5;241m.\u001b[39mread_csv(data_file_1)\n\u001b[0;32m     13\u001b[0m     motor_power_raw \u001b[38;5;241m=\u001b[39m pd\u001b[38;5;241m.\u001b[39mread_csv(data_file_2) \n",
      "\u001b[1;31mUnboundLocalError\u001b[0m: cannot access local variable 'homogeneity_raw' where it is not associated with a value"
     ]
    }
   ],
   "source": [
    "def main():\n",
    "    st.title(\"CFD data post processing\")\n",
    "\n",
    "    st.header(\"Upload CFD output Homogeneity.xlsx CSV data file\")\n",
    "    data_file_1 = st.file_uploader(\"Upload CSV\", type=[\"csv\"])\n",
    "\n",
    "    st.header(\"Upload CFD output MotorPower.xlsx CSV data file\")\n",
    "    data_file_2 = st.file_uploader(\"Upload CSV\", type=[\"csv\"])\n",
    "\n",
    "    if homogeneity_raw is not None:\n",
    "\n",
    "        homogeneity_raw = pd.read_csv(data_file_1)\n",
    "        motor_power_raw = pd.read_csv(data_file_2) \n",
    "        # index\n",
    "        num_step = homogeneity_raw.shape[0]     \n",
    "        # save ori header info\n",
    "        homogeneity_header_ori = list(homogeneity_raw.columns.values)\n",
    "        \n",
    "        # homogeneity_header_ori.append(\"all\")\n",
    "        # motor_power_header_ori = list(motor_power_raw.columns.values)\n",
    "        \n",
    "        # change headers for better use\n",
    "        homogeneity_raw.rename(columns={\"Time [s]\":\"Time\", \"Homogeneity %\":\"Homogeneity\"}, inplace=True)\n",
    "        \n",
    "        st.write(\"Data overview:\")\n",
    "        st.write(homogeneity_raw.head())\n",
    "\n",
    "        st.sidebar.header(\"Visualizations\")\n",
    "\n",
    "        time_range = st.slider('Choose plot time range', homogeneity_raw['Time'].min(), homogeneity_raw['Time'].max())\n",
    "        plot_variable = st.sidebar.selectbox(\"Choose a plot variable\", homogeneity_header_ori)\n",
    "\n",
    "        x_axis = st.sidebar.selectbox(\"Select x-axis\", homogeneity_raw.columns)\n",
    "        y_axis = st.sidebar.selectbox(\"Select y-axis\", homogeneity_raw.columns)\n",
    "        fig, ax = plt.subplots()\n",
    "        sns.barplot(x=data[x_axis], y=data[y_axis], ax=ax)\n",
    "        st.pyplot(fig)\n",
    "\n",
    "if __name__ == \"__main__\":\n",
    "    main()"
   ]
  },
  {
   "cell_type": "code",
   "execution_count": null,
   "id": "0689567e-479f-4f1a-8d58-98eb415be250",
   "metadata": {},
   "outputs": [],
   "source": []
  },
  {
   "cell_type": "code",
   "execution_count": null,
   "id": "2d47737b-8f9f-4f6c-bfba-ac85ed3fdd5e",
   "metadata": {},
   "outputs": [],
   "source": []
  },
  {
   "cell_type": "code",
   "execution_count": 4,
   "id": "54f3de5d-3b45-4c09-a637-5a9bc4289716",
   "metadata": {},
   "outputs": [],
   "source": [
    "# plot_button = mr.Button(label=\"Plot\", style=\"primary\")\n",
    "# if plot_button.clicked:\n",
    "\n",
    "# if len(new_homogeneity):\n",
    "    # plt.style.use('default')\n",
    "    \n",
    "    # fig, axs= plt.subplots(1,3,figsize=(15, 3))\n",
    "    # plt.axis('off')\n",
    "    \n",
    "    # # Plot vertical reaction curve\n",
    "    # axs[0].plot(new_homogeneity['Time'], new_homogeneity[data_selection.value] )\n",
    "    \n",
    "    \n",
    "    # axs[0].set_title('Vertical displacement - reaction force (N)')\n",
    "    # axs[0].set_xlabel('Vertical displacement (mm)')\n",
    "    # axs[0].set_ylabel('Vertical reaction force (N)')\n",
    "    # axs[0].set_facecolor('none')\n",
    "    # axs[0].tick_params(axis='both', which='both', labelsize=12, labelbottom=True)\n",
    "    # axs[0].axis('on')\n",
    "    # axs[0].set_ylim(ymin=min( new_homogeneity[str(data_selection.value)] ))\n",
    "    # axs[0].set_xlim(xmin=min(new_homogeneity['Time']))\n",
    "    \n",
    "    # axs[1].axis('off')\n",
    "    # axs[2].axis('off')"
   ]
  },
  {
   "cell_type": "code",
   "execution_count": 5,
   "id": "5f3bc834-5c90-49ee-ad11-15aa0b434822",
   "metadata": {},
   "outputs": [],
   "source": [
    "# new_homogeneity"
   ]
  },
  {
   "cell_type": "code",
   "execution_count": 1,
   "id": "03d72a5d-59eb-4f6f-9f91-10a914965bed",
   "metadata": {},
   "outputs": [],
   "source": [
    "\n",
    "\n",
    "# flag_temp = 1\n",
    "# if flag_temp:\n",
    "#     data_selection = mr.MultiSelect(label=\"Select one/more output field\", \n",
    "#                                   choices=homogeneity_header_ori,\n",
    "#                                   value=[homogeneity_header_ori[1]],\n",
    "#                                   url_key=\"selected\")\n",
    "    \n",
    "#     time_range = mr.Range(value=[homogeneity_raw['Time'].min(), \n",
    "#                                 homogeneity_raw['Time'].max()],  \n",
    "#                           min=homogeneity_raw['Time'].min(), \n",
    "#                          max=homogeneity_raw['Time'].max(),  \n",
    "#                             label=\"Select time range\",\n",
    "#                                  step = 1)\n",
    "\n",
    "#     time_filter = mr.Slider(value=1, min=homogeneity_raw.Time.min(), \n",
    "#                                max=homogeneity_raw.Time.max(), label=\"Credits Filter\", step=1)\n",
    "    \n",
    "#     new_homogeneity = homogeneity_raw[(homogeneity_raw.Time >= time_range.value[0]) & (homogeneity_raw.Time <= time_range.value[1])]\n",
    "#     new_df = homogeneity_raw[(homogeneity_raw.Time>=int(time_filter.value))]\n",
    "#     # plt.style.use('default')\n",
    "\n",
    "#     if len(new_homogeneity):\n",
    "#         fig, axs= plt.subplots(1,3,figsize=(15, 3))\n",
    "#         plt.axis('off')\n",
    "        \n",
    "#         # Plot vertical reaction curve\n",
    "#         axs[0].plot(new_homogeneity['Time'], new_homogeneity[data_selection.value] )\n",
    "#         axs[1].plot(new_df['Time'], new_df[data_selection.value] )"
   ]
  },
  {
   "cell_type": "code",
   "execution_count": null,
   "id": "f8c944b9-544e-4682-8fb5-b798badfff41",
   "metadata": {},
   "outputs": [],
   "source": []
  }
 ],
 "metadata": {
  "kernelspec": {
   "display_name": "Python 3 (ipykernel)",
   "language": "python",
   "name": "python3"
  },
  "language_info": {
   "codemirror_mode": {
    "name": "ipython",
    "version": 3
   },
   "file_extension": ".py",
   "mimetype": "text/x-python",
   "name": "python",
   "nbconvert_exporter": "python",
   "pygments_lexer": "ipython3",
   "version": "3.11.5"
  }
 },
 "nbformat": 4,
 "nbformat_minor": 5
}
