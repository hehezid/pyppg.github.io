{
 "cells": [
  {
   "cell_type": "code",
   "execution_count": 1,
   "id": "8ae2aea4-a1ea-4fb8-96b2-c39879567d2c",
   "metadata": {},
   "outputs": [],
   "source": [
    "import pandas as pd\n",
    "import numpy as np\n",
    "from matplotlib import pyplot as plt\n",
    "import matplotlib\n",
    "import matplotlib.image as mpimg\n",
    "import seaborn as sns\n",
    "import math\n",
    "\n",
    "from scipy.stats import binned_statistic\n",
    "\n",
    "import warnings\n",
    "warnings.filterwarnings('ignore')\n"
   ]
  },
  {
   "cell_type": "code",
   "execution_count": 2,
   "id": "e9fee880-e0bd-419f-8ec1-ebca73a2505f",
   "metadata": {},
   "outputs": [],
   "source": [
    "# read elemental nodal information\n",
    "cz_ele_info = pd.read_csv('czm_post/cz_ele_info.txt', header=None) \n",
    "cz_index = cz_ele_info[0].to_numpy()\n",
    "cz_ele_info = cz_ele_info.set_index([0])\n",
    "\n",
    "bulk_ele_info = pd.read_csv('czm_post/bulk_ele_info.txt', header=None) \n",
    "bulk_index = bulk_ele_info[0].to_numpy()\n",
    "bulk_ele_info = bulk_ele_info.set_index([0])\n",
    "\n",
    "node_info = pd.read_csv('czm_post/node_info.txt', header=None)\n",
    "\n",
    "# read field output\n",
    "cz_stress = pd.read_fwf('czm_post/czm_MaxPrincipalStress.rpt', sep=' ', skiprows=7, header=None)\n",
    "node_displacement = pd.read_csv('czm_post/cz_coat_860D_bend90_100stiff_100shear.csv')\n",
    "\n",
    "# Clean displacement data (log format to datasheet format)\n",
    "\n",
    "# # index\n",
    "num_cz = cz_ele_info.shape[0]\n",
    "num_bulk = bulk_ele_info.shape[0]\n",
    "num_node = node_info.shape[0]\n",
    "num_step = cz_stress.shape[0]\n"
   ]
  },
  {
   "cell_type": "code",
   "execution_count": 3,
   "id": "e97aad5b-e008-45e1-b38a-c626365a1552",
   "metadata": {},
   "outputs": [
    {
     "data": {
      "text/plain": [
       "array(['ODB Name', 'Step', 'Frame', 'Part Instance Name', '  Node Label',\n",
       "       'X', 'Y', 'Z', 'Section Name', 'Material Name', 'Section Point',\n",
       "       '        U-U1', '        U-U2'], dtype=object)"
      ]
     },
     "execution_count": 3,
     "metadata": {},
     "output_type": "execute_result"
    }
   ],
   "source": [
    "# get the column names\n",
    "node_displacement.columns.values"
   ]
  },
  {
   "cell_type": "code",
   "execution_count": 4,
   "id": "1cc82078-4bc1-4f93-9399-18e63bab4da2",
   "metadata": {},
   "outputs": [
    {
     "data": {
      "text/plain": [
       "''"
      ]
     },
     "execution_count": 4,
     "metadata": {},
     "output_type": "execute_result"
    }
   ],
   "source": [
    "# prepare for nodal loop\n",
    "temp_df = node_displacement.loc[node_displacement['  Node Label'] == 1]\n",
    "num_frame = temp_df.shape[1]\n",
    "num_frame = 1001\n",
    "used_node = node_displacement['  Node Label'].unique()\n",
    "\n",
    "# claim space to store u1, u2, x, and y info\n",
    "nu1 = pd.DataFrame()\n",
    "nu2 = pd.DataFrame()\n",
    "nx = pd.DataFrame()\n",
    "ny = pd.DataFrame()\n",
    "\n",
    "# select data\n",
    "for i in range(0, len(used_node)):\n",
    "    select_df = node_displacement.loc[node_displacement['  Node Label'] == used_node[i]]\n",
    "    select_df.reset_index(inplace=True)  \n",
    "    \n",
    "    node_name = used_node[i]\n",
    "    \n",
    "    nu1[node_name] = select_df['        U-U1']\n",
    "    nu2[node_name] = select_df['        U-U2']\n",
    "    nx[node_name] = select_df['X']\n",
    "    ny[node_name] = select_df['Y']\n",
    "\n",
    "nu1.to_csv('czm_post/860D_bend90_100stiff_100shear_nu1_output.csv', float_format='%.4f', index=False)\n",
    "nu2.to_csv('czm_post/860D_bend90_100stiff_100shear_nu2_output.csv', float_format='%.4f', index=False)\n",
    "nx.to_csv('czm_post/860D_bend90_100stiff_100shear_nx_output.csv', float_format='%.4f', index=False)\n",
    "ny.to_csv('czm_post/860D_bend90_100stiff_100shear_ny_output.csv', float_format='%.4f', index=False)\n",
    "\n",
    ";"
   ]
  },
  {
   "cell_type": "code",
   "execution_count": null,
   "id": "d5dfe111-94c9-4f1f-ae2f-701427bc6707",
   "metadata": {},
   "outputs": [],
   "source": []
  }
 ],
 "metadata": {
  "kernelspec": {
   "display_name": "Python 3 (ipykernel)",
   "language": "python",
   "name": "python3"
  },
  "language_info": {
   "codemirror_mode": {
    "name": "ipython",
    "version": 3
   },
   "file_extension": ".py",
   "mimetype": "text/x-python",
   "name": "python",
   "nbconvert_exporter": "python",
   "pygments_lexer": "ipython3",
   "version": "3.11.5"
  }
 },
 "nbformat": 4,
 "nbformat_minor": 5
}
