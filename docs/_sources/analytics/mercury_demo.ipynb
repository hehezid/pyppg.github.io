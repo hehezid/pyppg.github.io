{
 "cells": [
  {
   "cell_type": "code",
   "execution_count": 1,
   "id": "41b24896",
   "metadata": {},
   "outputs": [],
   "source": [
    "import mercury as mr # for widgets\n",
    "import pandas as pd\n",
    "import seaborn as sns\n",
    "from matplotlib import pyplot as plt\n",
    "\n",
    "sns.set()"
   ]
  },
  {
   "cell_type": "code",
   "execution_count": 2,
   "id": "0049a8f3",
   "metadata": {},
   "outputs": [
    {
     "data": {
      "application/mercury+json": "{\n    \"widget\": \"App\",\n    \"title\": \"SPH Data Analysis\",\n    \"description\": \"Replot SPH results in \",\n    \"show_code\": false,\n    \"show_prompt\": false,\n    \"output\": \"app\",\n    \"schedule\": \"\",\n    \"notify\": \"{}\",\n    \"continuous_update\": true,\n    \"static_notebook\": false,\n    \"show_sidebar\": true,\n    \"full_screen\": true,\n    \"allow_download\": true,\n    \"model_id\": \"mercury-app\",\n    \"code_uid\": \"App.0.40.24.1-randcb727dfc\"\n}",
      "text/html": [
       "<h3>Mercury Application</h3><small>This output won't appear in the web app.</small>"
      ],
      "text/plain": [
       "mercury.App"
      ]
     },
     "metadata": {},
     "output_type": "display_data"
    }
   ],
   "source": [
    "app = mr.App(title=\"SPH Data Analysis\", description=\"Replot SPH results in \")"
   ]
  },
  {
   "cell_type": "markdown",
   "id": "8249dc9e",
   "metadata": {},
   "source": [
    "# SPH Analysis - Compound Shaped Anchor"
   ]
  },
  {
   "cell_type": "code",
   "execution_count": 3,
   "id": "aa606d3b",
   "metadata": {
    "scrolled": true
   },
   "outputs": [
    {
     "data": {
      "application/mercury+json": "{\n    \"widget\": \"File\",\n    \"max_file_size\": \"100MB\",\n    \"label\": \"Upload CSV\",\n    \"model_id\": \"8de4e458f26e408cb5169bda28b6d07b\",\n    \"code_uid\": \"File.0.40.18.1-rand70048804\",\n    \"disabled\": false,\n    \"hidden\": false\n}",
      "application/vnd.jupyter.widget-view+json": {
       "model_id": "8de4e458f26e408cb5169bda28b6d07b",
       "version_major": 2,
       "version_minor": 0
      },
      "text/plain": [
       "mercury.File"
      ]
     },
     "metadata": {},
     "output_type": "display_data"
    }
   ],
   "source": [
    "data_file = mr.File(label=\"Upload CSV\")"
   ]
  },
  {
   "cell_type": "code",
   "execution_count": 7,
   "id": "5b50d93c",
   "metadata": {},
   "outputs": [],
   "source": [
    "file_read = 0\n",
    "\n",
    "if data_file.filepath:\n",
    "    emp_df = pd.read_csv(data_file.filepath)\n",
    "    file_read = 2"
   ]
  },
  {
   "cell_type": "code",
   "execution_count": 8,
   "id": "d652201b",
   "metadata": {},
   "outputs": [],
   "source": [
    "if file_read:\n",
    "    # company = mr.MultiSelect(value=emp_df.Company_Name.unique(), \n",
    "    #                          choices=emp_df.Company_Name.unique(),\n",
    "    #                          label=\"Select Companies\")\n",
    "    \n",
    "    \n",
    "    deflection0_filter = mr.Slider(value=0, min=emp_df.Deflection0.min(), \n",
    "                               max=emp_df.Deflection0.max(), label=\"Deflection0 Filter\", step=0.01)\n",
    "    deflection1_filter = mr.Slider(value=0, min=emp_df.Deflection1.min(), \n",
    "                               max=emp_df.Deflection1.max(), label=\"Deflection1 Filter\", step=0.01)\n",
    "    deflection2_filter = mr.Slider(value=0, min=emp_df.Deflection2.min(), \n",
    "                               max=emp_df.Deflection2.max(), label=\"Deflection2 Filter\", step=0.01)   \n",
    "    deflection0_filter_r = mr.Range(value=[-0.5, 0.5], min=emp_df.Deflection0.min(), \n",
    "                               max=emp_df.Deflection0.max(), label=\"Deflection0 Filter range\", step=0.01)\n",
    "    deflection1_filter_r = mr.Range(value=[-0.5, 0.5], min=emp_df.Deflection1.min(), \n",
    "                               max=emp_df.Deflection1.max(), label=\"Deflection1 Filter range\", step=0.01)\n",
    "    deflection2_filter_r = mr.Range(value=[-0.5, 0.5], min=emp_df.Deflection2.min(), \n",
    "                               max=emp_df.Deflection2.max(), label=\"Deflection2 Filter range\", step=0.01)   \n",
    "\n",
    "    \n",
    "    new_df = emp_df[(emp_df.Deflection0>=int(deflection0_filter.value)) | (emp_df.Deflection1>=int(deflection1_filter.value)) | (emp_df.Deflection2>=int(deflection2_filter.value))]\n",
    "    # new_df = emp_df[(emp_df.Deflection0>=int(deflection0_filter.value))]\n",
    "    mr.Md(f\"The DataFrame has {new_df.shape[0]} rows and {new_df.shape[1]} columns.\")\n",
    "    \n",
    "    if len(new_df):\n",
    "        sns.set_style (\"darkgrid\")\n",
    "        ax = plt.axes(projection='3d')\n",
    "        ax.scatter(new_df.Deflection0, new_df.Deflection1, new_df.Deflection2)\n",
    "     #    sns.scatterplot(data = new_df, ax = ax, x = \"Deflection0\", y = \"Deflection1\", z = \"Deflection2\")\n",
    "     #   sns.countplot(x = new_df.Employment_Status, ax = ax[1])\n",
    "        plt.show();"
   ]
  },
  {
   "cell_type": "code",
   "execution_count": 9,
   "id": "7b63b737-6f42-48a0-9680-b6e99488ca3f",
   "metadata": {},
   "outputs": [
    {
     "ename": "NameError",
     "evalue": "name 'new_df' is not defined",
     "output_type": "error",
     "traceback": [
      "\u001b[1;31m---------------------------------------------------------------------------\u001b[0m",
      "\u001b[1;31mNameError\u001b[0m                                 Traceback (most recent call last)",
      "Cell \u001b[1;32mIn[9], line 1\u001b[0m\n\u001b[1;32m----> 1\u001b[0m \u001b[43mnew_df\u001b[49m\n",
      "\u001b[1;31mNameError\u001b[0m: name 'new_df' is not defined"
     ]
    }
   ],
   "source": [
    "new_df"
   ]
  },
  {
   "cell_type": "code",
   "execution_count": null,
   "id": "beca85e0-8575-4671-bb51-18ee46965d87",
   "metadata": {},
   "outputs": [],
   "source": []
  }
 ],
 "metadata": {
  "kernelspec": {
   "display_name": "Python 3 (ipykernel)",
   "language": "python",
   "name": "python3"
  },
  "language_info": {
   "codemirror_mode": {
    "name": "ipython",
    "version": 3
   },
   "file_extension": ".py",
   "mimetype": "text/x-python",
   "name": "python",
   "nbconvert_exporter": "python",
   "pygments_lexer": "ipython3",
   "version": "3.8.10"
  }
 },
 "nbformat": 4,
 "nbformat_minor": 5
}
