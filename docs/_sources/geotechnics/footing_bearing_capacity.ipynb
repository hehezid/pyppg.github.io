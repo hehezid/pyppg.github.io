{
 "cells": [
  {
   "cell_type": "markdown",
   "id": "6a89494b",
   "metadata": {},
   "source": [
    "# Bearing Capacity of Shallow Foundations new\n",
    "\n",
    "## Ground Profile"
   ]
  },
  {
   "cell_type": "markdown",
   "id": "c7cf8de4",
   "metadata": {},
   "source": [
    "<div class=\"alert alert-warning\" role=\"alert\">\n",
    "  Input grond informations. User needs to manully type the information of each layer into the \"layer\" section below. Each pair of \"{...}\" stores the information of one layer. The layer information should be input sequentially from top to bottom. User can remove or add layers as needed by deleting or adding \"{...}\". Then click \"Run\" to import data to theis Python program. \n",
    "</div>"
   ]
  },
  {
   "cell_type": "code",
   "execution_count": 1,
   "id": "aec3f7b0",
   "metadata": {},
   "outputs": [],
   "source": [
    "import json\n",
    "import pandas as pd\n",
    "import numpy as np\n",
    "import math\n",
    "\n",
    "ground_info = {\n",
    "  \"ground_elevation\": 10,  # unit: ft\n",
    "  \"slope_a\": 15,  # unit: ft\n",
    "  \"surface_elevation\": 67,  # unit: ft\n",
    "  \"surcharge_weight\": 125,  # unit: ft\n",
    "  \"ground_water_depth\": 42,  # unit: ft\n",
    "    \"overburden_load\": 0.250,  # unit: ksf\n",
    "    \"footing_shape\": \"rectangular\", # or circular\n",
    "    \"footing_embedment\": 2.0,  # unit: ft\n",
    "    \"footing_width\": 5.0,  # unit: ft\n",
    "    \"footing_length\": 45,  # unit: ft\n",
    "    \n",
    "    ## soil_type can only be chosen from supported types: \n",
    "    # \"inorganic silt\" , \"well graded fine to medium silty sand\" , \"clean well graded fine to coarse sand\" \n",
    "    # \"well graded silty sand & gravel\" , \"well graded silty sand & gravel\" , \"clean uniform medium sand\"    \n",
    "   \n",
    "   # type layer information to this section \n",
    "  \"layers\": [\n",
    "    {\"ESU\":\"3D\", \"top\":67, \"bottom\":64.5, \"soil_type\":\"well graded silty sand & gravel\", \n",
    "     \"sat_unit_weight\": 140, \"AASHTO_N1\":55},\n",
    "\n",
    "    {\"ESU\":\"3C\", \"top\":64.5, \"bottom\":62, \"soil_type\":\"well graded silty sand & gravel\", \n",
    "     \"sat_unit_weight\": 135, \"AASHTO_N1\":38},\n",
    "      \n",
    "    {\"ESU\":\"3C\", \"top\":62, \"bottom\":59.5, \"soil_type\":\"well graded silty sand & gravel\", \n",
    "     \"sat_unit_weight\": 135, \"AASHTO_N1\":42},\n",
    "      \n",
    "    {\"ESU\":\"3C\", \"top\":59.5, \"bottom\":57, \"soil_type\":\"well graded silty sand & gravel\", \n",
    "     \"sat_unit_weight\": 135, \"AASHTO_N1\":45},\n",
    "      \n",
    "    {\"ESU\":\"3D\", \"top\":57, \"bottom\":52, \"soil_type\":\"well graded silty sand & gravel\", \n",
    "     \"sat_unit_weight\": 140, \"AASHTO_N1\":58},\n",
    "      \n",
    "    {\"ESU\":\"3D\", \"top\":52, \"bottom\":47, \"soil_type\":\"well graded silty sand & gravel\", \n",
    "     \"sat_unit_weight\": 140, \"AASHTO_N1\":100},\n",
    "      \n",
    "    {\"ESU\":\"3D\", \"top\":47, \"bottom\":42, \"soil_type\":\"well graded silty sand & gravel\", \n",
    "     \"sat_unit_weight\": 140, \"AASHTO_N1\":100},\n",
    "      \n",
    "    {\"ESU\":\"3D\", \"top\":42, \"bottom\":37, \"soil_type\":\"well graded silty sand & gravel\", \n",
    "     \"sat_unit_weight\": 140, \"AASHTO_N1\":75},\n",
    "      \n",
    "    {\"ESU\":\"3D\", \"top\":37, \"bottom\":32, \"soil_type\":\"well graded silty sand & gravel\", \n",
    "     \"sat_unit_weight\": 130, \"AASHTO_N1\":100},\n",
    "      \n",
    "    {\"ESU\":\"3D\", \"top\":32, \"bottom\":27, \"soil_type\":\"well graded silty sand & gravel\", \n",
    "     \"sat_unit_weight\": 130, \"AASHTO_N1\":100},\n",
    "      \n",
    "    {\"ESU\":\"3D\", \"top\":27, \"bottom\":22, \"soil_type\":\"well graded silty sand & gravel\", \n",
    "     \"sat_unit_weight\": 130, \"AASHTO_N1\":100},\n",
    "      \n",
    "    {\"ESU\":\"3D\", \"top\":22, \"bottom\":17, \"soil_type\":\"well graded silty sand & gravel\", \n",
    "     \"sat_unit_weight\": 130, \"AASHTO_N1\":55},\n",
    "      \n",
    "    {\"ESU\":\"3D\", \"top\":17, \"bottom\":12, \"soil_type\":\"well graded silty sand & gravel\", \n",
    "     \"sat_unit_weight\": 130, \"AASHTO_N1\":100},\n",
    "      \n",
    "    {\"ESU\":\"3D\", \"top\":12, \"bottom\":7, \"soil_type\":\"well graded silty sand & gravel\", \n",
    "     \"sat_unit_weight\": 130, \"AASHTO_N1\":100},\n",
    "      \n",
    "    {\"ESU\":\"4D\", \"top\":7, \"bottom\":2, \"soil_type\":\"inorganic silt\", \n",
    "     \"sat_unit_weight\": 130, \"AASHTO_N1\":100},\n",
    "      \n",
    "    {\"ESU\":\"4C\", \"top\":2, \"bottom\":-6, \"soil_type\":\"inorganic silt\", \n",
    "     \"sat_unit_weight\": 120, \"AASHTO_N1\":70},\n",
    "      \n",
    "      {\"ESU\":\"4D\", \"top\":-6, \"bottom\":-8, \"soil_type\":\"inorganic silt\", \n",
    "     \"sat_unit_weight\": 130, \"AASHTO_N1\":100},\n",
    "      \n",
    "      {\"ESU\":\"4D\", \"top\":-8, \"bottom\":-13, \"soil_type\":\"inorganic silt\", \n",
    "     \"sat_unit_weight\": 130, \"AASHTO_N1\":100},\n",
    "      \n",
    "      {\"ESU\":\"4D\", \"top\":-13, \"bottom\":-18, \"soil_type\":\"inorganic silt\", \n",
    "     \"sat_unit_weight\": 130, \"AASHTO_N1\":100},\n",
    "      \n",
    "      {\"ESU\":\"4D\", \"top\":-18, \"bottom\":-23, \"soil_type\":\"inorganic silt\", \n",
    "     \"sat_unit_weight\": 130, \"AASHTO_N1\":100},\n",
    "      \n",
    "      {\"ESU\":\"4D\", \"top\":-23, \"bottom\":-28, \"soil_type\":\"inorganic silt\", \n",
    "     \"sat_unit_weight\": 130, \"AASHTO_N1\":100},\n",
    "      \n",
    "      {\"ESU\":\"4D\", \"top\":-28, \"bottom\":-33, \"soil_type\":\"inorganic silt\", \n",
    "     \"sat_unit_weight\": 130, \"AASHTO_N1\":78},\n",
    "      \n",
    "      {\"ESU\":\"4C\", \"top\":-33, \"bottom\":-38, \"soil_type\":\"inorganic silt\", \n",
    "     \"sat_unit_weight\": 120, \"AASHTO_N1\":47},\n",
    "      \n",
    "      {\"ESU\":\"4D\", \"top\":-38, \"bottom\":-43, \"soil_type\":\"inorganic silt\", \n",
    "     \"sat_unit_weight\": 130, \"AASHTO_N1\":42},\n",
    "            ]\n",
    "          }\n",
    "\n",
    "with open('ground_info.json', 'w') as outfile:\n",
    "    json.dump(ground_info , outfile)"
   ]
  },
  {
   "cell_type": "markdown",
   "id": "ad98398d",
   "metadata": {},
   "source": [
    "Preliminary calculation to prepare data such as the depth and the thickness of each layer, and the vertical stress distribution for later calculation. The data is shown in the form of dataframe. The DataFrame allows to present data and results in a spreadsheet-like way. User can call the data in cell by typing `table_name.loc[row_number][column_lable]`. For example, `ground_table.loc[1]['AASHTO_N1']` returns value `38`. Notice that the order of rows starts from zero. \n",
    "\n",
    "<div class=\"alert alert-success\" role=\"alert\">\n",
    "  The preliminary calculation is finished. Click \"+\" to see the detailed progress.\n",
    "</div>"
   ]
  },
  {
   "cell_type": "code",
   "execution_count": 2,
   "id": "5600d4d4",
   "metadata": {},
   "outputs": [
    {
     "ename": "ModuleNotFoundError",
     "evalue": "No module named 'hapy'",
     "output_type": "error",
     "traceback": [
      "\u001b[1;31m---------------------------------------------------------------------------\u001b[0m",
      "\u001b[1;31mModuleNotFoundError\u001b[0m                       Traceback (most recent call last)",
      "Cell \u001b[1;32mIn[2], line 6\u001b[0m\n\u001b[0;32m      3\u001b[0m     ground_data \u001b[38;5;241m=\u001b[39m json\u001b[38;5;241m.\u001b[39mload(read_file)\n\u001b[0;32m      5\u001b[0m \u001b[38;5;66;03m# calculating ground stress and depth of each layer. Returns 'ground_table'\u001b[39;00m\n\u001b[1;32m----> 6\u001b[0m \u001b[38;5;28;01mfrom\u001b[39;00m \u001b[38;5;21;01mhapy\u001b[39;00m\u001b[38;5;21;01m.\u001b[39;00m\u001b[38;5;21;01mshallow_foundation\u001b[39;00m \u001b[38;5;28;01mimport\u001b[39;00m shallow_footing \u001b[38;5;28;01mas\u001b[39;00m sf\n\u001b[0;32m      8\u001b[0m (ground_table, u_mid, depth_top,depth_bottom, sig_vo_ef, sig_vo_mid, \n\u001b[0;32m      9\u001b[0m  layer_thickness, midpoint_depth_below_footing, AASHTO_C) \u001b[38;5;241m=\u001b[39m sf\u001b[38;5;241m.\u001b[39mgroundinfo(ground_data)\n\u001b[0;32m     11\u001b[0m ground_table\n",
      "\u001b[1;31mModuleNotFoundError\u001b[0m: No module named 'hapy'"
     ]
    }
   ],
   "source": [
    "# Read ground information\n",
    "with open(\"ground_info.json\", \"r\") as read_file:\n",
    "    ground_data = json.load(read_file)\n",
    "    \n",
    "# calculating ground stress and depth of each layer. Returns 'ground_table'\n",
    "from hapy.shallow_foundation import shallow_footing as sf\n",
    "\n",
    "(ground_table, u_mid, depth_top,depth_bottom, sig_vo_ef, sig_vo_mid, \n",
    " layer_thickness, midpoint_depth_below_footing, AASHTO_C) = sf.groundinfo(ground_data)\n",
    "\n",
    "ground_table"
   ]
  },
  {
   "cell_type": "markdown",
   "id": "205e49fc",
   "metadata": {},
   "source": [
    "## Footing Calculation"
   ]
  },
  {
   "cell_type": "markdown",
   "id": "2ea6f2ae",
   "metadata": {},
   "source": [
    "Goemetries of footing. \n",
    "\n",
    "\n",
    "<img src=\"images/footing_fig.jpg\"  width=\"350px\" align=\"center\">"
   ]
  },
  {
   "cell_type": "markdown",
   "id": "4a537b09",
   "metadata": {},
   "source": [
    "Click \"+\" to view figure if it is not shown.\n",
    "\n",
    "```{admonition} Click the button to view the geometries of footing!\n",
    ":class: dropdown\n",
    "\n",
    "{image} images/footing_fig.jpg\n",
    ":alt: footing dimension\n",
    ":width: 350px\n",
    ":align: center\n",
    "\n",
    "```"
   ]
  },
  {
   "cell_type": "markdown",
   "id": "6b5206dd",
   "metadata": {},
   "source": [
    "<div class=\"alert alert-warning\" role=\"alert\">\n",
    "    \n",
    "  Manually change the value of the footing geometries in this section. Then click \"run\" to import the data in this section to the program.\n",
    "    \n",
    "</div>"
   ]
  },
  {
   "cell_type": "code",
   "execution_count": null,
   "id": "f0680008",
   "metadata": {},
   "outputs": [],
   "source": [
    "footing_width = 30  # B, unit: ft\n",
    "footing_length = 45  # L, unit: ft\n",
    "cal_x = footing_length/2\n",
    "cal_y = footing_width/2\n",
    "\n",
    "influence_z = 2*footing_width  # depth of influence, 2*W for squrare footing, 6*W for infinite footing.\n",
    "\n",
    "# footing load\n",
    "load = 84.1  # unit: ksf\n",
    "req_load = 50  # unit: kips\n",
    "stress = 0.521  # unit: ksf"
   ]
  },
  {
   "cell_type": "markdown",
   "id": "3f487483",
   "metadata": {},
   "source": [
    "<div class=\"alert alert-success\" role=\"alert\">\n",
    "    \n",
    "  Footing calculation. The outputs is printed below. The calculation based upon Newmark's solution of the Boussinesq Equation. \n",
    "    \n",
    "</div>"
   ]
  },
  {
   "cell_type": "code",
   "execution_count": null,
   "id": "ad27227e",
   "metadata": {},
   "outputs": [],
   "source": [
    "(boussinesq_table, actual_depth, l_b_center_q) = sf.boussinesq_cal(ground_data, footing_width, footing_length, cal_x, cal_y,depth_top, \n",
    "               depth_bottom,layer_thickness, midpoint_depth_below_footing, load)\n",
    "\n",
    "boussinesq_table    "
   ]
  },
  {
   "cell_type": "markdown",
   "id": "b5c134a4",
   "metadata": {},
   "source": [
    "<div class=\"alert alert-success\" role=\"alert\">\n",
    "    \n",
    "  Plot the geostatic stress distribution, excessive stress distribution, the table of ground condition, and the table of footing dimensions to the Haley Aldrich template. \n",
    "    \n",
    "</div>"
   ]
  },
  {
   "cell_type": "code",
   "execution_count": null,
   "id": "fa970818",
   "metadata": {
    "tags": [
     "hide-input"
    ]
   },
   "outputs": [],
   "source": [
    "from hapy.plotting import HCFigure\n",
    "import datetime as datetime\n",
    "import numpy as np\n",
    "  \n",
    "\n",
    "asdf = HCFigure(style = 'ha',\n",
    "              title=\"HA-204 PRELIMINARY SETTLEMENT \\nDUE TO NEW FILL\",\n",
    "              author='Cal',\n",
    "              date=datetime.datetime.now(),\n",
    "              filename='file',\n",
    "              size=[8.5, 11],\n",
    "              orientation='p',\n",
    "              city='Sparrows Point',\n",
    "              state='Maryland',\n",
    "              sitename='aes Sparrows point Lng Terminal',\n",
    "              prjnum='XXXX-XX',\n",
    "              prjname='Sparrows Point LNG',\n",
    "              fignum='32907-260',\n",
    "                # do not number bullet points of notes\n",
    "              note=[\"REF: ELASTIC SOLUTIONS FOR SOIL AND ROCK MECHANICS, BY H.G. POULOS & E.H. DAVIS\",\n",
    "                     \"REF: AN INTRODUCTION TO GEOTECHNICAL ENGINEERING, BY R.D. HOLTZ & W.D. KOVACS\"]\n",
    "              )\n",
    "\n",
    "# Plot geostatic stress distribution\n",
    "loadAx = asdf.addPlotAxes([0.28, 0.73, 0.5, 0.2]) # define the position of ground stress plot\n",
    "loadAx.plot(u_mid, depth_top, label='water pressure')\n",
    "loadAx.plot(sig_vo_ef, depth_top, label='effective stress')\n",
    "loadAx.plot(sig_vo_mid, depth_top, label='total stress')\n",
    "loadAx.legend()\n",
    "loadAx.set_ylim(loadAx.get_ylim()[::-1])\n",
    "loadAx.set_xlabel('Geostatic stress (pcf)')\n",
    "loadAx.set_ylabel('Depth (ft)')\n",
    "loadAx.grid()\n",
    "\n",
    "# plot vertical excessive stress distribution\n",
    "stressAx = asdf.addPlotAxes([0.28, 0.46, 0.5, 0.2]) # define the position of plot\n",
    "stressAx.plot(l_b_center_q, depth_top)\n",
    "stressAx.set_ylim(stressAx.get_ylim()[::-1])\n",
    "# stressAx.set_xlim(stressAx.get_xlim()[::-1])\n",
    "stressAx.set_xlabel('Applied Stress (psf)')\n",
    "stressAx.set_ylabel('Depth (ft)')\n",
    "stressAx.grid()\n",
    "\n",
    "# plot the tables of ground and footing information\n",
    "tableAx1 = asdf.addPlotAxes([0.28, 0.15, 0.25, 0.2])\n",
    "tableAx1.axis('tight')\n",
    "tableAx1.axis('off')\n",
    "tableAx1.set_title('Surface & Groundwater Conditions', loc='right')\n",
    "temp_data = pd.DataFrame([ground_data[\"surface_elevation\"], ground_data[\"ground_water_depth\"],\n",
    "                          ground_data[\"surcharge_weight\"], ground_data[\"overburden_load\"]])\n",
    "tableAx1.table(cellText = temp_data.values,\n",
    "        rowLabels=[\"surface elevation (ft)\",\"ground water depth (ft)\",\"Density of overburden (pcf)\",\"overburden load (ksf)\"],\n",
    "        colWidths=[0.45,0.5],\n",
    "        loc=\"upper right\")\n",
    "\n",
    "# plot the tables of ground and footing information\n",
    "tableAx2 = asdf.addPlotAxes([0.6, 0.15, 0.25, 0.2])\n",
    "tableAx2.axis('tight')\n",
    "tableAx2.axis('off')\n",
    "tableAx2.set_title('Footing DImensions')\n",
    "temp_data = pd.DataFrame([ground_data[\"footing_shape\"], ground_data[\"footing_embedment\"],\n",
    "                          ground_data[\"footing_width\"], ground_data[\"footing_length\"]])\n",
    "tableAx2.table(cellText = temp_data.values,\n",
    "        rowLabels=[\"Footing shape\",\"Embedment, $D_r$ (ft)\",\"Footing width, B (ft)\",\"Footing length, L (ft)\"],\n",
    "        colWidths=[0.45,0.5],\n",
    "        loc=\"upper right\")\n",
    "\n",
    "asdf.add_text()\n",
    "asdf.saveHCFigure(\"soil_profile_page.pdf\")"
   ]
  },
  {
   "cell_type": "markdown",
   "id": "399552ca",
   "metadata": {},
   "source": [
    "## Settlement Calculation"
   ]
  },
  {
   "cell_type": "markdown",
   "id": "4665a9ee",
   "metadata": {},
   "source": [
    "<div class=\"alert alert-success\" role=\"alert\">\n",
    "\n",
    "Calculate compression of each layer by following Hough, AASHTO, and WSDOT method. Click \"+\" to check the calculating progress. The total settlement result will be plotted with footing bearing capacity.\n",
    "    \n",
    "</div>"
   ]
  },
  {
   "cell_type": "code",
   "execution_count": null,
   "id": "83f49906",
   "metadata": {},
   "outputs": [],
   "source": [
    "(settlement_table, dh_total_aashto, dh_total_wsdot) = sf.footing_settle(ground_data, depth_top, depth_bottom, midpoint_depth_below_footing,\n",
    "                    actual_depth, layer_thickness, AASHTO_C, sig_vo_ef, l_b_center_q)\n",
    "\n",
    "settlement_table"
   ]
  },
  {
   "cell_type": "markdown",
   "id": "3877d632",
   "metadata": {},
   "source": [
    "##  Bearing Capacity Mult Scenario"
   ]
  },
  {
   "cell_type": "markdown",
   "id": "25230f1d",
   "metadata": {},
   "source": [
    "Input soil's properties. The bearing capacity factors can be found according to the following figure (fig 10.6.3.1.2a-1). \n",
    "\n",
    "<img src=\"images/bearing_capacity_fig.jpg\"  width=\"350px\" align=\"center\">"
   ]
  },
  {
   "cell_type": "markdown",
   "id": "b406c41f",
   "metadata": {},
   "source": [
    "Click \"+\" to view figure if it is not shown.\n",
    "\n",
    "```{admonition} Click the button to view the bearing capacity factor figure.\n",
    ":class: dropdown\n",
    "\n",
    "{image} images/bearing_capacity_fig.jpg\n",
    ":alt: footing dimension\n",
    ":width: 350px\n",
    ":align: center\n",
    "\n",
    "```"
   ]
  },
  {
   "cell_type": "markdown",
   "id": "674fc712",
   "metadata": {},
   "source": [
    "The above figure is digitized and approximated by polynomial trend line. User can following the formulas to calculate the value of parameters. This program does not provide automatical calculation, although it is easy to implement. The major reason is that human judgement is very necessary to choose the layer for bearing capacity calcualtion. For example, top layer is strong, but the embedment is very close to the 2nd layer and the 2nd layer is weak. In this case, it might be necessary for user to use the properties of the 2nd layer for calculation. \n",
    "\n",
    "<img src=\"images/bearing_capacity_poly_fig.jpg\"  width=\"600px\" align=\"center\">"
   ]
  },
  {
   "cell_type": "markdown",
   "id": "a59639e6",
   "metadata": {},
   "source": [
    "Click \"+\" to view figure if it is not shown.\n",
    "```{admonition} Click the button to view the polynomial functions of  bearing capacity factor figure.\n",
    ":class: dropdown\n",
    "\n",
    "{image} images/bearing_capacity_poly_fig.jpg\n",
    ":alt: footing dimension\n",
    ":width: 600px\n",
    ":align: center\n",
    "\n",
    "```"
   ]
  },
  {
   "cell_type": "markdown",
   "id": "4c397cdc",
   "metadata": {},
   "source": [
    "<div class=\"alert alert-warning\" role=\"alert\">\n",
    "\n",
    "Type in geometries and the parameters manually. Then click \"run\" to input data to the program.\n",
    "\n",
    "</div>"
   ]
  },
  {
   "cell_type": "code",
   "execution_count": null,
   "id": "9593fe03",
   "metadata": {},
   "outputs": [],
   "source": [
    "# Bearing capacity factors\n",
    "n_c = 35.5\n",
    "n_q = 23.2\n",
    "n_y = 30.2 \n",
    "\n",
    "slope = 'yes'  # or = 'no'\n",
    "\n",
    "friction_angle = 32  # unit: degrees\n",
    "cohesion = 0  # unit: psf\n",
    "soil_weight_above_gwt = 120  # unit: pcf\n",
    "foundation_depth = 2  # unit: ft\n",
    "depth_to_gwt = 42  # unit: ft\n",
    "\n",
    "lower_bound_of_length = 45  # footing dimensions. Used for searching best L*B\n",
    "lower_bound_of_width = 5\n",
    "varies_of_length = 1\n",
    "varies_of_width = 7\n",
    "upper_bound_of_length = 45\n",
    "upper_bound_of_width = 23\n",
    "\n",
    "streng_ls = 0.65  # strength limit state (Table 10.5.5.2.1-1)\n",
    "ex_ls = 0.9  # extreme event limit state (WSDOT GDM)"
   ]
  },
  {
   "cell_type": "markdown",
   "id": "2c312a02",
   "metadata": {},
   "source": [
    "The result of bearing capacity calculation is shown below. Click \"+\" button to check the detailed procedures."
   ]
  },
  {
   "cell_type": "code",
   "execution_count": null,
   "id": "cbbed483",
   "metadata": {},
   "outputs": [],
   "source": [
    "# Calculating the bearing capacity\n",
    "(bearing_table, f_b, strength_limit_state, extreme_event_limit_state) = sf. bearing_capacity(lower_bound_of_width, upper_bound_of_width, varies_of_width,\n",
    "                     lower_bound_of_length, upper_bound_of_length, varies_of_length,\n",
    "                     slope, friction_angle, cohesion, soil_weight_above_gwt,\n",
    "                     foundation_depth, depth_to_gwt, streng_ls, ex_ls, n_c, n_q, n_y)   \n",
    "\n",
    "bearing_table"
   ]
  },
  {
   "cell_type": "markdown",
   "id": "fc039768",
   "metadata": {},
   "source": [
    "Plot bearing capacity result to figure template"
   ]
  },
  {
   "cell_type": "code",
   "execution_count": null,
   "id": "8f07b7bc",
   "metadata": {
    "tags": [
     "hide-input"
    ]
   },
   "outputs": [],
   "source": [
    "from hapy.plotting import HCFigure\n",
    "import datetime as datetime\n",
    "import numpy as np\n",
    "  \n",
    "\n",
    "asdf = HCFigure(style = 'ha',\n",
    "              title=\"HA-204 PRELIMINARY SETTLEMENT \\nDUE TO NEW FILL\",\n",
    "              author='Cal',\n",
    "              date=datetime.datetime.now(),\n",
    "              filename='file',\n",
    "              size=[8.5, 11],\n",
    "              orientation='l',\n",
    "              city='Sparrows Point',\n",
    "              state='Maryland',\n",
    "              sitename='aes Sparrows point Lng Terminal',\n",
    "              prjnum='XXXX-XX',\n",
    "              prjname='Sparrows Point LNG',\n",
    "              fignum='32907-260',\n",
    "                # do not number bullet points of notes\n",
    "              note=[\"Settlement estimates calculated based on Hough (1959). Soil layering and groundwater profile based on individual samples reported in boring XXXXX. Depth to bearing is approximately XXX feet from existing ground surface.\",\n",
    "                    \"Footing assumed to be bearing on very dense granular soils at an elevation of XX feet (X feet below existing grade).\",\n",
    "                    \"We have assumed no liquefaction occurs.\",\n",
    "                    \"Footing length and width assumed to be equal (i.e. square footing). -OR- Footing length assumed constant at XX feet (i.e. rectangular footing).\",\n",
    "                    \"The effective footing width for bearing pressure shall be calculated according to Section 6.4 of FHWA-SA-02-024 Geotechnical Engineering Circular No. 5 Shallow Foundations.\",\n",
    "                    \"These recommendations are preliminary results only and are subject to change pending final evaluations of ESUs and site geometry.\"\n",
    "                    ]\n",
    "              )\n",
    "\n",
    "# Plot geostatic stress distribution\n",
    "bearAx = asdf.addPlotAxes([0.12, 0.33, 0.5, 0.5]) # define the position of ground stress plot\n",
    "bearAx.plot(f_b, strength_limit_state, label='Strength limit state')\n",
    "bearAx.plot(f_b, extreme_event_limit_state, label='extreme_event_limit_state')\n",
    "bearAx.legend()\n",
    "bearAx.set_xlabel('Effective Footing Width, B (Feet)')\n",
    "bearAx.set_ylabel('Factored Bearing Capacity (ksf)')\n",
    "bearAx.grid()\n",
    "\n",
    "# plot the tables of footing information\n",
    "footAx = asdf.addPlotAxes([0.67, 0.61, 0.25, 0.2])\n",
    "footAx.axis('tight')\n",
    "footAx.axis('off')\n",
    "footAx.set_title('Footing information')\n",
    "temp_data = pd.DataFrame([footing_width, footing_length, ground_data[\"footing_embedment\"],cal_x, cal_y, influence_z])\n",
    "                        \n",
    "footAx.table(cellText = temp_data.values,\n",
    "        rowLabels=[\"Width, B (ft)\",\"Length, L (ft)\",\"Embedment, $D_r$ (ft)\", \"L/2 (ft)\",\"B/2 (ft)\", \"Influence Dept (ft)\"],\n",
    "        colWidths=[0.45,0.5],\n",
    "        loc=\"upper right\")\n",
    "\n",
    "# plot the tables of applied footing stress\n",
    "footStAx = asdf.addPlotAxes([0.67, 0.41, 0.25, 0.2])\n",
    "footStAx.axis('tight')\n",
    "footStAx.axis('off')\n",
    "footStAx.set_title('Applied footing stress')\n",
    "temp_data = pd.DataFrame([load, req_load, stress])\n",
    "                        \n",
    "footStAx.table(cellText = temp_data.values,\n",
    "        rowLabels=[\"Load, q (ksf)\",\"Req'd load (kips)\",\"Stress, q (ksf)\"],\n",
    "        colWidths=[0.45,0.5],\n",
    "        loc=\"upper right\")\n",
    "\n",
    "# plot the tables of total settlement at base of footing\n",
    "totalsettleAx = asdf.addPlotAxes([0.67, 0.3, 0.25, 0.15])\n",
    "totalsettleAx.axis('tight')\n",
    "totalsettleAx.axis('off')\n",
    "totalsettleAx.set_title('Total Settlement at Base of Footing')\n",
    "temp_data = pd.DataFrame([round(dh_total_wsdot[0],2), round(dh_total_aashto[0],2)])\n",
    "                        \n",
    "totalsettleAx.table(cellText = temp_data.values,\n",
    "        rowLabels=[\"$\\Sigma \\Delta H_i$ , WSDOT\",\"$\\Sigma \\Delta H_i$ , AASHTO\"],\n",
    "        colWidths=[0.45,0.5],\n",
    "        loc=\"upper right\")\n",
    "\n",
    "\n",
    "asdf.add_text()\n",
    "asdf.saveHCFigure(\"bearing_capacity.pdf\")"
   ]
  },
  {
   "cell_type": "code",
   "execution_count": null,
   "id": "78ae581b",
   "metadata": {},
   "outputs": [],
   "source": []
  },
  {
   "cell_type": "code",
   "execution_count": null,
   "id": "020883d3",
   "metadata": {},
   "outputs": [],
   "source": []
  }
 ],
 "metadata": {
  "jupytext": {
   "formats": "ipynb,md:myst",
   "text_representation": {
    "extension": ".md",
    "format_name": "myst",
    "format_version": 0.13,
    "jupytext_version": "1.10.3"
   }
  },
  "kernelspec": {
   "display_name": "Python 3 (ipykernel)",
   "language": "python",
   "name": "python3"
  },
  "language_info": {
   "codemirror_mode": {
    "name": "ipython",
    "version": 3
   },
   "file_extension": ".py",
   "mimetype": "text/x-python",
   "name": "python",
   "nbconvert_exporter": "python",
   "pygments_lexer": "ipython3",
   "version": "3.11.5"
  },
  "source_map": [
   13,
   19,
   25,
   125,
   133,
   145,
   149,
   156,
   170,
   178,
   190,
   198,
   203,
   211,
   283,
   287,
   295,
   300,
   304,
   310,
   324,
   330,
   343,
   351,
   374,
   378,
   386,
   390,
   471,
   475
  ]
 },
 "nbformat": 4,
 "nbformat_minor": 5
}